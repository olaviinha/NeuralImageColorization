{
  "nbformat": 4,
  "nbformat_minor": 0,
  "metadata": {
    "accelerator": "GPU",
    "colab": {
      "provenance": [],
      "collapsed_sections": [],
      "machine_shape": "hm",
      "include_colab_link": true
    },
    "kernelspec": {
      "display_name": "Python 3",
      "language": "python",
      "name": "python3"
    },
    "language_info": {
      "codemirror_mode": {
        "name": "ipython",
        "version": 3
      },
      "file_extension": ".py",
      "mimetype": "text/x-python",
      "name": "python",
      "nbconvert_exporter": "python",
      "pygments_lexer": "ipython3",
      "version": "3.7.6"
    }
  },
  "cells": [
    {
      "cell_type": "markdown",
      "metadata": {
        "id": "view-in-github",
        "colab_type": "text"
      },
      "source": [
        "<a href=\"https://colab.research.google.com/github/olaviinha/NeuralImageColorization/blob/master/DeOldify_ImageColorization.ipynb\" target=\"_parent\"><img src=\"https://colab.research.google.com/assets/colab-badge.svg\" alt=\"Open In Colab\"/></a>"
      ]
    },
    {
      "cell_type": "markdown",
      "metadata": {
        "id": "VrVRp-vlJnZX"
      },
      "source": [
        "# DeOldify Image Colorization Batch Processer\n",
        "\n",
        "This is a batch processor for [DeOldify](https://github.com/jantic/DeOldify) to be run in Google Colaboratory, using Google Drive as data storage.\n",
        "\n",
        "### Tips\n",
        "- `input` may be a file path or a directory path. If a directory path given, all images in the directory will be processed.\n",
        "- if `output_dir` is not given, images will be saved to `<input_dir>/colorized`\n",
        "- Set all direcotries relative to your Google Drive root, e.g. `images/grayscale` and `images/colorized` if you have a directory called _images_ in your Drive, containing directory _grayscale_.\n",
        "\n",
        "\n"
      ]
    },
    {
      "cell_type": "code",
      "metadata": {
        "cellView": "form",
        "id": "xXn7t5rE8nrD"
      },
      "source": [
        "#@title #Setup\n",
        "#@markdown This cell needs to be run only once. It will mount your Google Drive and setup prerequisites.<br>\n",
        "#@markdown <small>Mounting Drive will enable this notebook to save outputs directly to your Drive. Otherwise you will need to copy/download them manually from this notebook.</small>\n",
        "\n",
        "force_setup = False\n",
        "pip_packages = ''\n",
        "main_repository = 'https://github.com/jantic/DeOldify.git'\n",
        "mount_drive = True #@param {type:\"boolean\"}\n",
        "\n",
        "# Download the repo from Github\n",
        "import os\n",
        "from google.colab import output\n",
        "import warnings\n",
        "warnings.filterwarnings('ignore')\n",
        "%cd /content/\n",
        "\n",
        "# inhagcutils\n",
        "if not os.path.isfile('/content/inhagcutils.ipynb') and force_setup == False:\n",
        "  !pip -q install import-ipynb {pip_packages}\n",
        "  !curl -s -O https://raw.githubusercontent.com/olaviinha/inhagcutils/master/inhagcutils.ipynb\n",
        "import import_ipynb\n",
        "from inhagcutils import *\n",
        "\n",
        "# Mount Drive\n",
        "if mount_drive is True:\n",
        "  if not os.path.isdir('/content/drive'):\n",
        "    from google.colab import drive\n",
        "    drive.mount('/content/drive')\n",
        "    drive_root = '/content/drive/My Drive'\n",
        "  if not os.path.isdir('/content/mydrive'):\n",
        "    os.symlink('/content/drive/My Drive', '/content/mydrive')\n",
        "    drive_root = '/content/mydrive/'\n",
        "  drive_root_set = True\n",
        "else:\n",
        "  create_dirs(['/content/faux_drive'])\n",
        "  drive_root = '/content/faux_drive/'\n",
        "\n",
        "if main_repository is not '':\n",
        "  !git clone {main_repository}\n",
        "\n",
        "%cd DeOldify\n",
        "\n",
        "#NOTE:  This must be the first call in order to work properly!\n",
        "from deoldify import device\n",
        "from deoldify.device_id import DeviceId\n",
        "#choices:  CPU, GPU0...GPU7\n",
        "device.set(device=DeviceId.GPU0)\n",
        "\n",
        "import torch\n",
        "\n",
        "if not torch.cuda.is_available():\n",
        "  print('GPU not available.')\n",
        "\n",
        "!pip install -r requirements-colab.txt\n",
        "\n",
        "\n",
        "\n",
        "import fastai\n",
        "from deoldify.visualize import *\n",
        "torch.backends.cudnn.benchmark = True\n",
        "\n",
        "!mkdir 'models'\n",
        "!wget https://data.deepai.org/deoldify/ColorizeArtistic_gen.pth -O ./models/ColorizeArtistic_gen.pth\n",
        "!wget https://www.dropbox.com/s/usf7uifrctqw9rl/ColorizeStable_gen.pth?dl=0 -O ./models/ColorizeStable_gen.pth\n",
        "\n",
        "output.clear()\n",
        "# !nvidia-smi\n",
        "op(c.ok, 'Setup finished.')"
      ],
      "execution_count": null,
      "outputs": []
    },
    {
      "cell_type": "code",
      "metadata": {
        "id": "bUJSd-xVjI6o",
        "cellView": "form"
      },
      "source": [
        "#@title #Colorize\n",
        "input = \"images/grayscale\" #@param {type: \"string\"}\n",
        "output_dir = \"images/colorized\" #@param {type: \"string\"}\n",
        "useArtistic = False #@param {type:\"boolean\"}\n",
        "render_factor = 35  #@param {type: \"slider\", min: 7, max: 40}\n",
        "\n",
        "if os.path.isfile(drive_root+input):\n",
        "  pictures = [drive_root+input]\n",
        "  source_path = path_dir(drive_root+input)\n",
        "elif os.path.isdir(drive_root+input):\n",
        "  source_path = fix_path(drive_root+input)\n",
        "  pictures = list_images(source_path)\n",
        "  pictures.sort()\n",
        "else:\n",
        "  op(c.fail, 'Unable to find', input)\n",
        "\n",
        "\n",
        "if output_dir == '':\n",
        "  output_path = source_path+'colorized/'\n",
        "  op(c.warn, 'No output_dir was given, saving to', output_path.replace(drive_root, ''))\n",
        "  print()\n",
        "else:\n",
        "  output_path = fix_path(drive_root+output_dir)\n",
        "\n",
        "if not os.path.isdir(output_path):\n",
        "  os.mkdir(output_path)\n",
        "\n",
        "\n",
        "\n",
        "count = len(pictures)\n",
        "\n",
        "op(c.title, 'Coloring '+str(count)+' images.\\n')\n",
        "for i, pic in enumerate(pictures):\n",
        "  index = i+1\n",
        "  if pic is not None and pic !='':\n",
        "    #pic_path = str(source_path)+\"/\"+pic\n",
        "    pic_out = output_path+path_leaf(pic)\n",
        "    if not os.path.isfile(pic_out):\n",
        "      op(c.title, 'Coloring '+str(index)+'/'+str(count), path_leaf(pic))\n",
        "      colorizer = get_image_colorizer(artistic=useArtistic)\n",
        "      image_path = colorizer.plot_transformed_image(path=pic, render_factor=render_factor, compare=False, watermarked=False)\n",
        "      im = Image.open(image_path)\n",
        "      im.save(pic_out)\n",
        "      del colorizer\n",
        "    else:\n",
        "      op(c.warn, 'Image already exists. Skipping', path_leaf(pic_out))\n",
        "  else:\n",
        "    op(c.fail, 'No images found, I guess.')"
      ],
      "execution_count": null,
      "outputs": []
    }
  ]
}
